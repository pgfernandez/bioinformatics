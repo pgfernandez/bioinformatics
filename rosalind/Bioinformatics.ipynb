{
 "cells": [
  {
   "cell_type": "markdown",
   "metadata": {},
   "source": [
    "http://rosalind.info/problems/\n",
    "\n",
    "**Counting DNA Nucleotids**"
   ]
  },
  {
   "cell_type": "markdown",
   "metadata": {},
   "source": [
    "**Solution 1:**"
   ]
  },
  {
   "cell_type": "code",
   "execution_count": 9,
   "metadata": {},
   "outputs": [
    {
     "name": "stdout",
     "output_type": "stream",
     "text": [
      "256 219 245 248\n"
     ]
    }
   ],
   "source": [
    "sequence = \"TGCCATATAGGGCCTGAAGATGAACATGAACGAGACCGCTCATTTTAAAATGGCGCCGCGTAACGGTCGTGGTATAGACTAGTGATATTTTGCACCTCAAAAGAAACAGCCGTGCGTAGTAGGCCAACAAGCCGCCTGGTTGTGTGTACTTACACTCGGCGTCAGATACCATGTGTGGATCCATATCCTTCACGCTCGCTGATAGGTACCGTGGCACCTCATCGTGACCGCGAAGCGACCGTTCGCCATACCTTCGGTCAGAGTATTTCAGCTGGAATAGAGACGAGCATTTCGGATGGTAATTATATCTACAACGGCTGCGTGCCATTGTATCTCTTCCAAAGATTCTAAACATAGAGCTCAGTCCAGAGCATACTCATGTGTCTTCAAATTTCTATGAAATACGGTCGAAAGTCCCATTAGCTCGATAACGCACAGAATCTACAGAGTACATTCATCTCAAAAACAGGTCAGTAGGGTATTGTAATCATTTAGTGGTTGGAAGCGTTTGTGAGATTCGCTCAGTAGCGTGTATTCGATGAACACCAGAAACTAATGTTTACAGATTCCAGCTGAAACATGGCGCGCCCCTCGCCGGTCGCCGTTATGGTAGCTAGTGTAAGCATATGGCTACGACACGAGATGATACAGTGGAAACTAGGTTAACTAGAATTCGTGAGACCGGCGGAGGCTAGACGGGTCGATACATGGCCCCTCGGATAGTAAAACGATTGACCAGCAGAATAAAGATTAGTATCGACTACTAGTTATGTCGTGGTATACTCGGCATTGACGTTAGGCCAAGTGATGCTGCGCCCAACAGAACGTGCACTCATCTGCCAGGGTCCTGCGTTTACTAGAGTGATGCTGCAGTCCGCGCGTGACCGGTTCTGACTTGGTCTGAATTTCTTGTAACACTCGTCTACTGATGACGGGCAGTTTTAAGTGGACATGACGGGTCAGTGGCT\"\n",
    "counterA = sequence.count('A')\n",
    "counterC = sequence.count('C')\n",
    "counterT = sequence.count('T')\n",
    "counterG = sequence.count('G')\n",
    "print(str(counterA) + \" \" + str(counterC) + \" \" + str(counterG) + \" \" + str(counterT))"
   ]
  },
  {
   "cell_type": "markdown",
   "metadata": {},
   "source": [
    "**Solution 2:**"
   ]
  },
  {
   "cell_type": "code",
   "execution_count": 11,
   "metadata": {},
   "outputs": [
    {
     "name": "stdout",
     "output_type": "stream",
     "text": [
      "256 219 245 248\n"
     ]
    }
   ],
   "source": [
    "sequence = \"TGCCATATAGGGCCTGAAGATGAACATGAACGAGACCGCTCATTTTAAAATGGCGCCGCGTAACGGTCGTGGTATAGACTAGTGATATTTTGCACCTCAAAAGAAACAGCCGTGCGTAGTAGGCCAACAAGCCGCCTGGTTGTGTGTACTTACACTCGGCGTCAGATACCATGTGTGGATCCATATCCTTCACGCTCGCTGATAGGTACCGTGGCACCTCATCGTGACCGCGAAGCGACCGTTCGCCATACCTTCGGTCAGAGTATTTCAGCTGGAATAGAGACGAGCATTTCGGATGGTAATTATATCTACAACGGCTGCGTGCCATTGTATCTCTTCCAAAGATTCTAAACATAGAGCTCAGTCCAGAGCATACTCATGTGTCTTCAAATTTCTATGAAATACGGTCGAAAGTCCCATTAGCTCGATAACGCACAGAATCTACAGAGTACATTCATCTCAAAAACAGGTCAGTAGGGTATTGTAATCATTTAGTGGTTGGAAGCGTTTGTGAGATTCGCTCAGTAGCGTGTATTCGATGAACACCAGAAACTAATGTTTACAGATTCCAGCTGAAACATGGCGCGCCCCTCGCCGGTCGCCGTTATGGTAGCTAGTGTAAGCATATGGCTACGACACGAGATGATACAGTGGAAACTAGGTTAACTAGAATTCGTGAGACCGGCGGAGGCTAGACGGGTCGATACATGGCCCCTCGGATAGTAAAACGATTGACCAGCAGAATAAAGATTAGTATCGACTACTAGTTATGTCGTGGTATACTCGGCATTGACGTTAGGCCAAGTGATGCTGCGCCCAACAGAACGTGCACTCATCTGCCAGGGTCCTGCGTTTACTAGAGTGATGCTGCAGTCCGCGCGTGACCGGTTCTGACTTGGTCTGAATTTCTTGTAACACTCGTCTACTGATGACGGGCAGTTTTAAGTGGACATGACGGGTCAGTGGCT\"\n",
    "print(*map(sequence.count, \"ACGT\"))\n"
   ]
  },
  {
   "cell_type": "markdown",
   "metadata": {},
   "source": [
    "**Transcribing DNA into RNA**"
   ]
  },
  {
   "cell_type": "code",
   "execution_count": 13,
   "metadata": {},
   "outputs": [
    {
     "name": "stdout",
     "output_type": "stream",
     "text": [
      "GUACUGGACACACUCCUCUUAAUCGCAGGGGCGCUACUAAGAAUACUUGAGAGGAAGCCUCUGCACGGCCCAAAGGACAUUCCAUGCCGGGAGGCCCUUAACACGUGAGUUUGUCACUGUGUGCGAGCUGGAAACUAACCUGUCCGGACAACUGAUAGUGAGUGGCCGUCCACCCUUCGAAAUAGGACAGGCGGUCCCUAGCGGAUAAGUCACCACUACGCACUGCCGUGCUAUACACUGGCCACGCUGUCAGUUCGUAUUGCUCGGCGCGACGAACUCAUGGUUAGUUACAUAUUCAUAGGUGACGACUAAACUUAAACAGGACGAAAGAUGAUGGUGCCACCCGCCUCAUCACUUCCGUGAGCUAGCUUGCCUCUGGCUAGCCUUGUGCCACUUUCUUAGACCUACGACGUCAAUAACCAAAGGUUCCGAGCGUGGGUGAUACCUAGACAAGUAGCAGGAGCACCGUCCAGGCCCCCCCGCCCCCUGUUUGGGUAAGGGCUCUAAACAUGUGAUCGGAGGGCACUACGCUGAUCAACACAAUAGUAGAUUCCACAUUAACGUUCCCUGGAACUGUCCCGUCAACGUAAGAUUUGUCUGUGUGACAGUUAGUGGAGAAAUCCAUGACUGACAAAGUUUCUUUUAAGGACAUGUUUUUCGCGAGGCUGCAGGUGCCGGCCCUGUUUGCGACGGGCCAACAGAAAAGGUGACGGUAGUGAUAAGAGAGAGCGACACGGACCCCCAGAGGUUCACAUGGCGUUACAACCGGAUCCCUGUUAUUUCUCCCCUUUCUAUCGAUGGCAGAAGUCAAUCGUCAGACAGAACAGCACCAUAUAGACGGGAGUAAAACAUGGAUUCCUUGCUGCAGCCCACGACACGCUCACGCCACAACAUCGAUUCUCCGCCAGGGGCCCCAAACCUUAUGAUGUUUAAGGCUGAAUGCACCACCU\n"
     ]
    }
   ],
   "source": [
    "sequence = 'GTACTGGACACACTCCTCTTAATCGCAGGGGCGCTACTAAGAATACTTGAGAGGAAGCCTCTGCACGGCCCAAAGGACATTCCATGCCGGGAGGCCCTTAACACGTGAGTTTGTCACTGTGTGCGAGCTGGAAACTAACCTGTCCGGACAACTGATAGTGAGTGGCCGTCCACCCTTCGAAATAGGACAGGCGGTCCCTAGCGGATAAGTCACCACTACGCACTGCCGTGCTATACACTGGCCACGCTGTCAGTTCGTATTGCTCGGCGCGACGAACTCATGGTTAGTTACATATTCATAGGTGACGACTAAACTTAAACAGGACGAAAGATGATGGTGCCACCCGCCTCATCACTTCCGTGAGCTAGCTTGCCTCTGGCTAGCCTTGTGCCACTTTCTTAGACCTACGACGTCAATAACCAAAGGTTCCGAGCGTGGGTGATACCTAGACAAGTAGCAGGAGCACCGTCCAGGCCCCCCCGCCCCCTGTTTGGGTAAGGGCTCTAAACATGTGATCGGAGGGCACTACGCTGATCAACACAATAGTAGATTCCACATTAACGTTCCCTGGAACTGTCCCGTCAACGTAAGATTTGTCTGTGTGACAGTTAGTGGAGAAATCCATGACTGACAAAGTTTCTTTTAAGGACATGTTTTTCGCGAGGCTGCAGGTGCCGGCCCTGTTTGCGACGGGCCAACAGAAAAGGTGACGGTAGTGATAAGAGAGAGCGACACGGACCCCCAGAGGTTCACATGGCGTTACAACCGGATCCCTGTTATTTCTCCCCTTTCTATCGATGGCAGAAGTCAATCGTCAGACAGAACAGCACCATATAGACGGGAGTAAAACATGGATTCCTTGCTGCAGCCCACGACACGCTCACGCCACAACATCGATTCTCCGCCAGGGGCCCCAAACCTTATGATGTTTAAGGCTGAATGCACCACCT'\n",
    "print(sequence.replace('T', 'U'))"
   ]
  },
  {
   "cell_type": "markdown",
   "metadata": {},
   "source": [
    "**Complementing a Strand of DNA**"
   ]
  },
  {
   "cell_type": "markdown",
   "metadata": {},
   "source": [
    "**Solution 1:**"
   ]
  },
  {
   "cell_type": "code",
   "execution_count": 25,
   "metadata": {},
   "outputs": [
    {
     "name": "stdout",
     "output_type": "stream",
     "text": [
      "CCGGTAATCAACTGGCAAATGGCGTTATGTTGAGATTATGCGTGCGCATTTAAGCCCTTTAGAAACACCGCCTTGCGGGTGGGCTACTCGACATCACCGTGCACGCGGCGGGGCTTTTGTGAGGGGCGCGCAAAATCCCCGGACGAGTTTAGGGAATGTCTAGGCCTTAGACTGTTAATAGCTCAGTAGGTAAGGGCGGGGGCGTACTTAGGCCCTTCACATCCTTCGCCATACCCGTGGAACGCAGGGCTGTCCTGCCAGGTACTCGTCGGTAGAGCGGTCAATATTGAAGGGGTCAGGTAGTCAACGTTAATGGTCGTGGGATCTCGGTAACCGATCTACCAATCACAGGCTAGGCACTGTGCATTACTGATGCGGTAATAAATAGAGCCGATCAACTCTGAAACCTGCTAACTTCACAGTGATGACCCACGTTACACGAGGACTTTTAATTCTAGCGACGACGCCGGAGGGGTTCTATCCACTCAAAACACCCCAATTGCCGGTGTGTCGGGGATTTGATTAACTGACTCGCCTCGAACCATTCCCCGCAGCATTTCTTAAGTCTCGCGTACAATATACGCATTATGCCAAGCAGCTGTATTCCTCTGGGTGCGAGAGGACAGAAAACAGCCCTGCGAATCGTACAGCCATCTACAGGAGCGAACCTAGCAGCCTTTCCATAAGACATGAAATATGAAGTTTGAAGTTTGACAGACCCAGCCACCCCCGAGCGGACTGCCGTTCGCGCATCTCGAACGCTTCGACTCCGTTAATTCACTAGCGTCCGTTGAGGTAGACCTCGAATCTGTGAGCGGCGCTTAGTATAGAGGCAACGCGCTAATTAGACCCTCTCCAAGCCGTCTGATGCCGGAGCGTTTACGGCAAGTTACGACCT\n"
     ]
    }
   ],
   "source": [
    "sequence = 'AGGTCGTAACTTGCCGTAAACGCTCCGGCATCAGACGGCTTGGAGAGGGTCTAATTAGCGCGTTGCCTCTATACTAAGCGCCGCTCACAGATTCGAGGTCTACCTCAACGGACGCTAGTGAATTAACGGAGTCGAAGCGTTCGAGATGCGCGAACGGCAGTCCGCTCGGGGGTGGCTGGGTCTGTCAAACTTCAAACTTCATATTTCATGTCTTATGGAAAGGCTGCTAGGTTCGCTCCTGTAGATGGCTGTACGATTCGCAGGGCTGTTTTCTGTCCTCTCGCACCCAGAGGAATACAGCTGCTTGGCATAATGCGTATATTGTACGCGAGACTTAAGAAATGCTGCGGGGAATGGTTCGAGGCGAGTCAGTTAATCAAATCCCCGACACACCGGCAATTGGGGTGTTTTGAGTGGATAGAACCCCTCCGGCGTCGTCGCTAGAATTAAAAGTCCTCGTGTAACGTGGGTCATCACTGTGAAGTTAGCAGGTTTCAGAGTTGATCGGCTCTATTTATTACCGCATCAGTAATGCACAGTGCCTAGCCTGTGATTGGTAGATCGGTTACCGAGATCCCACGACCATTAACGTTGACTACCTGACCCCTTCAATATTGACCGCTCTACCGACGAGTACCTGGCAGGACAGCCCTGCGTTCCACGGGTATGGCGAAGGATGTGAAGGGCCTAAGTACGCCCCCGCCCTTACCTACTGAGCTATTAACAGTCTAAGGCCTAGACATTCCCTAAACTCGTCCGGGGATTTTGCGCGCCCCTCACAAAAGCCCCGCCGCGTGCACGGTGATGTCGAGTAGCCCACCCGCAAGGCGGTGTTTCTAAAGGGCTTAAATGCGCACGCATAATCTCAACATAACGCCATTTGCCAGTTGATTACCGG'\n",
    "complementingStrand = []\n",
    "\n",
    "for i in range(len(sequence)):\n",
    "   \n",
    "    if sequence[i] == 'A':\n",
    "        complementingStrand.append('T')\n",
    "    elif sequence[i] == 'T':\n",
    "        complementingStrand.append('A')\n",
    "    elif sequence[i] == 'C':\n",
    "        complementingStrand.append('G')\n",
    "    elif sequence[i] == 'G':\n",
    "        complementingStrand.append('C')\n",
    "\n",
    "sequenceBond = \"\".join(complementingStrand)[::-1]\n",
    "\n",
    "print(sequenceBond)"
   ]
  },
  {
   "cell_type": "markdown",
   "metadata": {},
   "source": [
    "**Solution 2:**"
   ]
  },
  {
   "cell_type": "code",
   "execution_count": 27,
   "metadata": {},
   "outputs": [
    {
     "name": "stdout",
     "output_type": "stream",
     "text": [
      "ACCGGGTTTT\n"
     ]
    }
   ],
   "source": [
    "st = \"AAAACCCGGT\"\n",
    "st = st.replace('A', 't').replace('T', 'a').replace('C', 'g').replace('G', 'c').upper()[::-1]\n",
    "print(st)"
   ]
  },
  {
   "cell_type": "markdown",
   "metadata": {},
   "source": [
    "**Solution 3:**"
   ]
  },
  {
   "cell_type": "code",
   "execution_count": 29,
   "metadata": {},
   "outputs": [
    {
     "name": "stdout",
     "output_type": "stream",
     "text": [
      "ACCGGGTTTT\n"
     ]
    }
   ],
   "source": [
    "s = 'AAAACCCGGT'\n",
    "print(s[::-1].translate(str.maketrans('ACGT', 'TGCA')))"
   ]
  },
  {
   "cell_type": "markdown",
   "metadata": {},
   "source": [
    "**Solution 4:**"
   ]
  },
  {
   "cell_type": "code",
   "execution_count": 31,
   "metadata": {},
   "outputs": [
    {
     "name": "stdout",
     "output_type": "stream",
     "text": [
      "TGAC\n"
     ]
    }
   ],
   "source": [
    "input = \"GTCA\"\n",
    "complement = { \"A\" : \"T\", \"T\" : \"A\", \"C\" : \"G\", \"G\" : \"C\"}\n",
    "result = [] \n",
    "for i in input[::-1]: \n",
    "    result.append(complement[i])\n",
    "print(''.join(result))"
   ]
  },
  {
   "cell_type": "markdown",
   "metadata": {},
   "source": [
    "**Rabbits and Recurrence Relations**"
   ]
  },
  {
   "cell_type": "code",
   "execution_count": 62,
   "metadata": {},
   "outputs": [
    {
     "name": "stdout",
     "output_type": "stream",
     "text": [
      "31 4 35 39 74 \n",
      "\n",
      "74\n"
     ]
    }
   ],
   "source": [
    "sequence = [31,4]\n",
    "resultSequence = []\n",
    "nterms = 5  #number of elements in the series\n",
    "f = sequence[0]\n",
    "#first element of series\n",
    "s = sequence[1]                                         #second element of series\n",
    "\n",
    "print(f,s,end=\" \")\n",
    "for x in range(2,nterms):\n",
    "    next=f+s\n",
    "    \n",
    "    resultSequence.append(next)\n",
    "    print(next,end=\" \")\n",
    "    f=s\n",
    "    s=next\n",
    "    \n",
    "print(\"\\n\")\n",
    "print(resultSequence[-1])"
   ]
  },
  {
   "cell_type": "markdown",
   "metadata": {},
   "source": [
    "**Computing GC Content**"
   ]
  },
  {
   "cell_type": "markdown",
   "metadata": {},
   "source": [
    "**Solution 1:**"
   ]
  },
  {
   "cell_type": "code",
   "execution_count": null,
   "metadata": {},
   "outputs": [],
   "source": [
    "import numpy\n",
    "f = open(\"rosalind_gc.txt\", \"r\")\n",
    "content = f.read()\n",
    "print(content)"
   ]
  },
  {
   "cell_type": "code",
   "execution_count": null,
   "metadata": {},
   "outputs": [],
   "source": [
    "gcContent = content.split(\">\")\n",
    "print(gcContent[1])"
   ]
  },
  {
   "cell_type": "code",
   "execution_count": 138,
   "metadata": {},
   "outputs": [
    {
     "data": {
      "text/plain": [
       "array([[0., 0., 0., 0.],\n",
       "       [0., 0., 0., 0.],\n",
       "       [0., 0., 0., 0.],\n",
       "       [0., 0., 0., 0.],\n",
       "       [0., 0., 0., 0.],\n",
       "       [0., 0., 0., 0.]])"
      ]
     },
     "execution_count": 138,
     "metadata": {},
     "output_type": "execute_result"
    }
   ],
   "source": [
    "nucleotidsCounter = numpy.zeros((len(gcContent)-1, 4))\n",
    "nucleotidsCounter"
   ]
  },
  {
   "cell_type": "code",
   "execution_count": 139,
   "metadata": {},
   "outputs": [
    {
     "data": {
      "text/plain": [
       "array([[1., 0., 0., 0.],\n",
       "       [0., 0., 0., 0.],\n",
       "       [0., 0., 0., 0.],\n",
       "       [0., 0., 0., 0.],\n",
       "       [0., 0., 0., 0.],\n",
       "       [0., 0., 0., 0.]])"
      ]
     },
     "execution_count": 139,
     "metadata": {},
     "output_type": "execute_result"
    }
   ],
   "source": [
    "nucleotidsCounter[0][0] = 1\n",
    "nucleotidsCounter"
   ]
  },
  {
   "cell_type": "code",
   "execution_count": 140,
   "metadata": {},
   "outputs": [
    {
     "name": "stdout",
     "output_type": "stream",
     "text": [
      "[[251. 241. 254. 242.]\n",
      " [218. 224. 225. 238.]\n",
      " [231. 231. 244. 244.]\n",
      " [219. 244. 222. 218.]\n",
      " [253. 225. 232. 274.]\n",
      " [240. 229. 233. 231.]]\n"
     ]
    }
   ],
   "source": [
    "nucleotids = ['C', 'G', 'T', 'A']\n",
    "\n",
    "for x in range(1, len(gcContent)):\n",
    "    for i in range(len(nucleotidsCounter[x-1])):\n",
    "        nucleotidsCounter[x-1][i] = gcContent[x].count(nucleotids[i])\n",
    "\n",
    "print(nucleotidsCounter)"
   ]
  },
  {
   "cell_type": "code",
   "execution_count": 141,
   "metadata": {},
   "outputs": [
    {
     "name": "stdout",
     "output_type": "stream",
     "text": [
      "[492.0, 442.0, 462.0, 463.0, 478.0, 469.0]\n",
      "[988.0, 905.0, 950.0, 903.0, 984.0, 933.0]\n",
      "[0.4979757085020243, 0.48839779005524864, 0.4863157894736842, 0.512735326688815, 0.48577235772357724, 0.5026795284030011]\n"
     ]
    }
   ],
   "source": [
    "addGC = [] \n",
    "totalNucleotids = []\n",
    "gcPercentage = []\n",
    "for i in range(nucleotidsCounter.shape[0]):\n",
    "    addGC.append(nucleotidsCounter[i][0] + nucleotidsCounter[i][1])\n",
    "    totalNucleotids.append(sum(nucleotidsCounter[i]))\n",
    "    gcPercentage.append(addGC[i]/totalNucleotids[i])\n",
    "               \n",
    "print(addGC)\n",
    "print(totalNucleotids)\n",
    "print(gcPercentage)"
   ]
  },
  {
   "cell_type": "code",
   "execution_count": 142,
   "metadata": {},
   "outputs": [],
   "source": [
    "maxPercentage = max(gcPercentage)\n",
    "maxIndex = gcPercentage.index(maxPercentage)"
   ]
  },
  {
   "cell_type": "code",
   "execution_count": 143,
   "metadata": {},
   "outputs": [
    {
     "name": "stdout",
     "output_type": "stream",
     "text": [
      "Rosalind_7299\n",
      "51.273533\n"
     ]
    }
   ],
   "source": [
    "key = str(gcContent[maxIndex+1])[0:13]\n",
    "print(key)\n",
    "print(round(maxPercentage*100,6))"
   ]
  },
  {
   "cell_type": "markdown",
   "metadata": {},
   "source": [
    "**Solution 2:**"
   ]
  },
  {
   "cell_type": "code",
   "execution_count": 145,
   "metadata": {},
   "outputs": [
    {
     "name": "stdout",
     "output_type": "stream",
     "text": [
      "Rosalind_7299 51.27353266888151\n"
     ]
    }
   ],
   "source": [
    "with open('rosalind_gc.txt', mode='r', encoding='utf+8') as file:\n",
    "    re = ''.join(file.read().split('\\n')).split('>')\n",
    "    re.remove('')\n",
    "    d = {}\n",
    "    for i in re:\n",
    "        x = i[13:].count('C') + i[13:].count('G')\n",
    "        d[i[:13]] = x * 100 / (len(i[13:]))\n",
    "    print(max(d, key=d.get), max(d.values()))"
   ]
  },
  {
   "cell_type": "markdown",
   "metadata": {},
   "source": [
    "**Counting Point Mutations (Hamming Distance)**"
   ]
  },
  {
   "cell_type": "code",
   "execution_count": null,
   "metadata": {},
   "outputs": [],
   "source": [
    "strandA = 'TATGTTCGGGATTTGGGCACGTAGGGAATTCCGTCGGTTTGGACGGTCCTTGTAGTGAGACAAACGCGTATAGGACGTGGTCGGACTCTGGCTCATAACCTTAAACCCGCCCCTCTCATTGCAACTCTCGAAGCGCTGTGCCTTGCCCCAGTGTGACGAATATGGGTCGGCGAGGGGGCCTCTCGTCTTGGTGCAAAATGCCTTCTGAGGTACCAAACCTCTTTGGAGGAGGAGAGCTAAACTTAGGGTGAGTCGGTCAAAGAGTAGCTGTAGGCGTTATTCTTAGTCCAAAGCCTGTTGTTCAGCTACGGGTTCTCTTGTACGTAATGTTATCACGCCATCGGTTCAATGACATGAGCATTTGGGCCAAAGGGTTGATCTGAGAGTCTAGATGTGACCATTCGCCCTCTTTCCGGGTAATGTACACTTTCATCGCTCATTGGAAGGTACTACAATTCTGTCGTGCAGGCTGTGTCCGGAACTCACACAGTATGGCTTGAACGATCTAAGTGGACGATTTGTGCGGCTTTTATTCTGGACGGTGCTCTACCGAGCCACATGAACAAGTGGGTATTTCCCGCGTCGCAATCGGGAGACCACAAAACTAGCCCGGAGATGCGAGCGGATTCCGGGGCACGGGACTCCTTAACTAAGCTCATTGAACGTCTGCTTACACGCGTTGCACAAGACGGCCTTCCCGAAGTAAAACTAAGCTTTCAGGTAATGTGACGCATATACGTTGGGATAAGCAAAGGTGGTTTATTCCACAGCATTGATGATTGAGATCGTCATGGCCGCTTGTCATTAAATGATTCATTGCAGTGAGGTTTGCAAGTCGTCGAGGGGAGATGGCACCCGACTGACTATATTTTGACGGAAATTTGGTTCGCGAAACCTAACAACAAGTGGGGCAGAAACTTGAACATTCGCTCTATTTGGCTAAGTGCATCTCGGGGCATCTGTCAACAATTACTGTTTTTGCCA'\n",
    "strandB = 'TATGGCCGAGATCTCGTCATTTCTGGGAGTCCTGAGGCTCGTGCTGAGCTTGAAATAGGACACCTCCAGCTCGGACCCGGGCGGAGTCTTACAGCTGGTACTTTTACCGGACTTTAAATTGTGGTATACGAAAAGTCATGGCCTGTCACTGTACGACGTATGTGGTTAGTCGTGGGGGCCTACGGTCTTGTTGCAAAAGGCTCTCAGAGATAGCAAATTAGGCTGAAATATGTGATAAAAATTTTTGGAGACTGGACCTCACATTATCACTGGCAGTTATTGGTGGCATAAGTAACTTAGCTCAGTTCTGCATTGTGATCTCCGCAGGGGGAAGACGACATCGTTTTCTAATTAATCCACTACCGTCCCAAGCTTTGGTTGGAGATTTTAGACGTACCCGATCGAGTTCTTGCCCGGGAATATACAACTGAGGTTTTAATGGAATAATGTTGCAAATAACTCCTGCGGAGTGCATTCAGGGTCAGCTCTTCGAGCCTGCAGCGGTCTGATTCGACGTATAGTGCGAGTGTTAATGTGTTCAATCTGCCCCCATACCACATATGTTATAAGATTGTGTGCTCTTTGCATTCGTCGAACCGTAATAATAACCCGCTAATGACAGCCTCTTGAGTGAGGAGGGGAGTACTAATAAAGATCGTTGAACCCTGGTAAGCTCGCAATGTAGCCGGAGGTCTTTTAGTCTTGTGACGATGTCAGACGGCAAAAAGAAGCGTACGATACTCTATAAGTACCGGTGCGGGTTTATACGGCATTTACTCGTTAGATCCTCTGGGCCGACGCCATACGTATGAGTGACATCCAAGACCGGGCCTGGGATTAAATCAGAGGGGAAACCATCTTAACTGGCTTCCGACGGAAAGTAGTTTGGAACTGCTTTACAAGACTCCGAGGTGAGCCTGACACATCTTCTCGGTCAGAGAAATGCCTTCTCGGGGCATAGGGCGAAATATAATGTTCTCCACG'\n",
    "listA = list(strandA)\n",
    "listB = list(strandB)\n",
    "count = 0"
   ]
  },
  {
   "cell_type": "markdown",
   "metadata": {},
   "source": [
    "**Solution 1:**"
   ]
  },
  {
   "cell_type": "code",
   "execution_count": 203,
   "metadata": {},
   "outputs": [
    {
     "data": {
      "text/plain": [
       "487"
      ]
     },
     "execution_count": 203,
     "metadata": {},
     "output_type": "execute_result"
    }
   ],
   "source": [
    "pointMutations = map(lambda a, b : count+1 if a != b else 0, listA, listB)\n",
    "sum(list(pointMutations))"
   ]
  },
  {
   "cell_type": "markdown",
   "metadata": {},
   "source": [
    "**Solution 2:**"
   ]
  },
  {
   "cell_type": "code",
   "execution_count": 202,
   "metadata": {},
   "outputs": [
    {
     "data": {
      "text/plain": [
       "487"
      ]
     },
     "execution_count": 202,
     "metadata": {},
     "output_type": "execute_result"
    }
   ],
   "source": [
    "sum([a != b for a, b in zip(listA, listB)])"
   ]
  },
  {
   "cell_type": "markdown",
   "metadata": {},
   "source": [
    "**Enumerating Gene Orders**"
   ]
  },
  {
   "cell_type": "code",
   "execution_count": 206,
   "metadata": {},
   "outputs": [],
   "source": [
    "# A utility function to print an \n",
    "# array p[] of size 'n' \n",
    "def printArray(p, n): \n",
    "    for i in range(0, n): \n",
    "        print(p[i], end = \" \") \n",
    "    print()"
   ]
  },
  {
   "cell_type": "code",
   "execution_count": 204,
   "metadata": {},
   "outputs": [],
   "source": [
    "def printAllUniqueParts(n): \n",
    "    p = [0] * n     # An array to store a partition \n",
    "    k = 0         # Index of last element in a partition \n",
    "    p[k] = n     # Initialize first partition \n",
    "                 # as number itself \n",
    "  \n",
    "    # This loop first prints current partition,  \n",
    "    # then generates next partition.The loop  \n",
    "    # stops when the current partition has all 1s \n",
    "    while True: \n",
    "          \n",
    "            # print current partition \n",
    "            printArray(p, k + 1) \n",
    "  \n",
    "            # Generate next partition \n",
    "  \n",
    "            # Find the rightmost non-one value in p[].  \n",
    "            # Also, update the rem_val so that we know \n",
    "            # how much value can be accommodated \n",
    "            rem_val = 0\n",
    "            while k >= 0 and p[k] == 1: \n",
    "                rem_val += p[k] \n",
    "                k -= 1\n",
    "  \n",
    "            # if k < 0, all the values are 1 so  \n",
    "            # there are no more partitions \n",
    "            if k < 0: \n",
    "                print() \n",
    "                return\n",
    "  \n",
    "            # Decrease the p[k] found above  \n",
    "            # and adjust the rem_val \n",
    "            p[k] -= 1\n",
    "            rem_val += 1\n",
    "  \n",
    "            # If rem_val is more, then the sorted  \n",
    "            # order is violated. Divide rem_val in  \n",
    "            # different values of size p[k] and copy  \n",
    "            # these values at different positions after p[k] \n",
    "            while rem_val > p[k]: \n",
    "                p[k + 1] = p[k] \n",
    "                rem_val = rem_val - p[k] \n",
    "                k += 1\n",
    "  \n",
    "            # Copy rem_val to next position  \n",
    "            # and increment position \n",
    "            p[k + 1] = rem_val \n",
    "            k += 1"
   ]
  },
  {
   "cell_type": "code",
   "execution_count": 208,
   "metadata": {},
   "outputs": [
    {
     "name": "stdout",
     "output_type": "stream",
     "text": [
      "3 \n",
      "2 1 \n",
      "1 1 1 \n",
      "\n"
     ]
    }
   ],
   "source": [
    "lenght = 3\n",
    "printAllUniqueParts(lenght)"
   ]
  },
  {
   "cell_type": "markdown",
   "metadata": {},
   "source": [
    "**Mendel's First Law**"
   ]
  },
  {
   "cell_type": "markdown",
   "metadata": {},
   "source": [
    "**Solution 1:**"
   ]
  },
  {
   "cell_type": "code",
   "execution_count": 22,
   "metadata": {},
   "outputs": [],
   "source": [
    "# Import comb (combination operation) from the scipy library \n",
    "from scipy.special import comb"
   ]
  },
  {
   "cell_type": "code",
   "execution_count": 23,
   "metadata": {},
   "outputs": [],
   "source": [
    "def calculateProbability(k, m, n):\n",
    "    # Calculate total number of organisms in the population:\n",
    "    totalPop = k + m + n \n",
    "    # Calculate the number of combos that could be made (valid or not):\n",
    "    totalCombos = comb(totalPop, 2)\n",
    "    # Calculate the number of combos that have a dominant allele therefore are valid:\n",
    "    validCombos = comb(k, 2) + k*m + k*n + .5*m*n + .75*comb(m, 2)\n",
    "    probability = validCombos/totalCombos\n",
    "    return probability"
   ]
  },
  {
   "cell_type": "code",
   "execution_count": null,
   "metadata": {},
   "outputs": [],
   "source": [
    "# Example Call: \n",
    "calculateProbability(2, 2, 2)\n",
    "# Example Output: 0.783333333333"
   ]
  },
  {
   "cell_type": "code",
   "execution_count": 26,
   "metadata": {},
   "outputs": [
    {
     "name": "stdout",
     "output_type": "stream",
     "text": [
      "0.8316696914700544\n"
     ]
    }
   ],
   "source": [
    "print(calculateProbability(25, 18, 15))"
   ]
  },
  {
   "cell_type": "markdown",
   "metadata": {},
   "source": [
    "**Solution 2:**"
   ]
  },
  {
   "cell_type": "code",
   "execution_count": 20,
   "metadata": {},
   "outputs": [],
   "source": [
    "def get_prob_of_dominant(k, m, n):\n",
    "    # A - dominant factor\n",
    "    # a - recessive factor\n",
    "    # k - amount of organisms with AA factors (homozygous dominant)\n",
    "    # m - amount of organisms with Aa factors (heterozygous)\n",
    "    # n - amount of organisms with aa factors (homozygous recessive)\n",
    "    events = ['AA+Aa', 'AA+aa', 'Aa+aa', 'AA+AA', 'Aa+Aa', 'aa+aa']\n",
    "\n",
    "    # get the probability of dominant traits (set up Punnett square)\n",
    "    punnett_probabilities = {\n",
    "        'AA+Aa': 1,\n",
    "        'AA+aa': 1,\n",
    "        'Aa+aa': 1 / 2,\n",
    "        'AA+AA': 1,\n",
    "        'Aa+Aa': 3 / 4,\n",
    "        'aa+aa': 0,\n",
    "    }\n",
    "    event_probabilities = {}\n",
    "    totals = k + m + n\n",
    "\n",
    "    # Event: AA+Aa -> P(X=k, Y=m) + P(X=m, Y=k):\n",
    "    P_km = k / totals * m / (totals - 1)\n",
    "    P_mk = m / totals * k / (totals - 1)\n",
    "    event_probabilities['AA+Aa'] = P_km + P_mk\n",
    "\n",
    "    # Event: AA+aa -> P(X=k, Y=n) + P(X=n, Y=k):\n",
    "    P_kn = k / totals * n / (totals - 1)\n",
    "    P_nk = n / totals * k / (totals - 1)\n",
    "    event_probabilities['AA+aa'] = P_kn + P_nk\n",
    "\n",
    "    # Event: Aa+aa -> P(X=m, Y=n) +P(X=n, Y=m):\n",
    "    P_mn = m / totals * n / (totals - 1)\n",
    "    P_nm = n / totals * m / (totals - 1)\n",
    "    event_probabilities['Aa+aa'] = P_mn + P_nm\n",
    "        # Event: AA+AA -> P(X=k, Y=k):\n",
    "    P_kk = k / totals * (k - 1) / (totals - 1)\n",
    "    event_probabilities['AA+AA'] = P_kk\n",
    "\n",
    "    # Event: Aa+Aa -> P(X=m, Y=m):\n",
    "    P_mm = m / totals * (m - 1) / (totals - 1)\n",
    "    event_probabilities['Aa+Aa'] = P_mm\n",
    "\n",
    "    # Event: aa+aa -> P(X=n, Y=n) + P(X=n, Y=n) = 0 (will be * 0, so just don't use it)\n",
    "    event_probabilities['aa+aa'] = 0\n",
    "\n",
    "    # Total probability is the sum of (prob of dominant factor * prob of the event)\n",
    "    total_probability = 0\n",
    "    for event in events:\n",
    "        total_probability += punnett_probabilities[event] * event_probabilities[event]\n",
    "    return round(total_probability, 5)"
   ]
  },
  {
   "cell_type": "code",
   "execution_count": 27,
   "metadata": {},
   "outputs": [
    {
     "name": "stdout",
     "output_type": "stream",
     "text": [
      "0.83167\n"
     ]
    }
   ],
   "source": [
    "k=25\n",
    "m=18\n",
    "n=15\n",
    "print(get_prob_of_dominant(k, m, n))"
   ]
  },
  {
   "cell_type": "markdown",
   "metadata": {},
   "source": [
    "**Translating RNA into Protein**"
   ]
  },
  {
   "cell_type": "code",
   "execution_count": 48,
   "metadata": {},
   "outputs": [],
   "source": [
    "#dictionary RNA codon table\n",
    "codonTable = {\"GCU\": \"A\", \"GCC\": \"A\", \"GCA\": \"A\", \"GCG\": \"A\",\n",
    "             \"CGU\": \"R\", \"CGC\": \"R\", \"CGA\": \"R\", \"CGG\": \"R\", \"AGA\":\"R\", \"AGG\":\"R\",\n",
    "             \"AAU\":\"N\", \"AAC\":\"N\",\n",
    "             \"GAU\":\"D\", \"GAC\":\"D\",\n",
    "             \"UGU\":\"C\", \"UGC\":\"C\",\n",
    "             \"CAA\":\"Q\", \"CAG\":\"Q\",\n",
    "             \"GAA\":\"E\", \"GAG\":\"E\",\n",
    "             \"GGU\":\"G\", \"GGC\":\"G\", \"GGA\":\"G\", \"GGG\":\"G\",\n",
    "             \"CAU\":\"H\", \"CAC\":\"H\",\n",
    "             \"AUU\":\"I\", \"AUC\":\"I\", \"AUA\":\"I\",\n",
    "             \"UUA\":\"L\", \"UUG\":\"L\", \"CUU\":\"L\", \"CUC\":\"L\", \"CUA\":\"L\", \"CUG\":\"L\",\n",
    "             \"AAA\":\"K\", \"AAG\":\"K\",\n",
    "             \"AUG\":\"M\",\n",
    "             \"UUU\":\"F\", \"UUC\":\"F\",\n",
    "             \"CCU\":\"P\", \"CCC\":\"P\", \"CCA\":\"P\", \"CCG\":\"P\",\n",
    "             \"UCU\":\"S\", \"UCC\":\"S\", \"UCA\":\"S\", \"UCG\":\"S\", \"AGU\":\"S\", \"AGC\":\"S\",\n",
    "             \"ACU\":\"T\", \"ACC\":\"T\", \"ACA\":\"T\", \"ACG\":\"T\",\n",
    "             \"UGG\":\"W\",\n",
    "             \"UAU\":\"Y\", \"UAC\":\"Y\",\n",
    "             \"GUU\":\"V\", \"GUC\":\"V\", \"GUA\":\"V\", \"GUG\":\"V\",\n",
    "             \"UAG\":\"Stop\", \"UGA\":\"Stop\", \"UAA\":\"Stop\"}"
   ]
  },
  {
   "cell_type": "code",
   "execution_count": 51,
   "metadata": {},
   "outputs": [
    {
     "name": "stdout",
     "output_type": "stream",
     "text": [
      "8295\n"
     ]
    }
   ],
   "source": [
    "f = open(\"rosalind_prot.txt\", \"r\")\n",
    "RNAString = f.read().rstrip() #remove the carrier return from the string\n",
    "print(len(RNAString))"
   ]
  },
  {
   "cell_type": "code",
   "execution_count": 52,
   "metadata": {},
   "outputs": [],
   "source": [
    "#split 3 nucleotides\n",
    "n=3\n",
    "rnaCodonsList = [(RNAString[i:i+n]) for i in range(0, len(RNAString), n)]"
   ]
  },
  {
   "cell_type": "code",
   "execution_count": 53,
   "metadata": {},
   "outputs": [
    {
     "data": {
      "text/plain": [
       "'AUG'"
      ]
     },
     "execution_count": 53,
     "metadata": {},
     "output_type": "execute_result"
    }
   ],
   "source": [
    "rnaCodonsList[0]"
   ]
  },
  {
   "cell_type": "code",
   "execution_count": 54,
   "metadata": {},
   "outputs": [
    {
     "name": "stdout",
     "output_type": "stream",
     "text": [
      "MEEHHLTSSRHRRLKDCNETSRRGKTCATGGPHQSVMKYPCEVNISDSTRKCLVSSDNISQSTYDHTGVQKFQRSDRPIHRPIIEHRINLDSHGFIVTTKSSRENTFCSSARTEAFFMIVLTEHVLPQSKSPNLSPYYCSHQLKDPHGLLSHSSRFHTGLWVRDRDMWRLGGESISSGIITTYQHYTSSACKVIVRSPKHTFASLHLTFGQRVITNGGTSVVPLQNPNVSAYTAACRRRNWVKRGREDEYRDYLILRIRLPPLACPYGTQCGARTVVGQRPSPLTSKICTASCPNLYQKSQLSRNLGGVRRGWRRLGSPPTICRHQLAARTYSSRKRQVGRCLGTLSVCYDPRRTIWAVNHILRKRQPSRLSPSSVSINAKSTESSFPYVRPRRVEFLRRHHSRWCTDCAFGHRKMTLELGAFAVQLVVLTRGWHTRGTVMFRAHLAPLSALRRSTGYKAGDLLITKHHQVFRKPEIIQTYLLLAIALQLIQLSHGPITTPRPVASASIALGFPYFIDLSSWQLQVDRLTLMSRRRDKPWFPYVGIVNISDGYTVQSIRFRRESYNDRNNTEGQAVRMPLFALCASRLLLALGRSAQRPLQCPPGGHWPTSRSTPAVEDSTSRVVSHLIKKERHCRVYAWATSTIFPTLKERINRFIVTPTAPSVSPTRSSRMCSVPSLPVEPGDSEPGKWASRALRMLFNKHTRASLIWHHRVGPGTMLPCKIKTKKRRSGRKHHTHANTAYAAADCILPKDFREYIPKNLWRGSQPEAPRIIGIQMGSRGRTGICMLVSTTDRLSRSRVCLPQRTGVAVRSACVSSQCVTKHDHSETEKRNQIVRSRMCYPAQTGRSTVEAEGIKPSYMVIFFRTPLKHIGSTVSRTAFRPTHFDLLGFDSANRETRVISMGRGESRCNLWLSGIETFTDSYPEFVLAMTFVSYSAEEGLDVGKHKPLGVSKPPMVFPDKPSAIQAHGPVFKHPRSSSSFETVRYYMLTFIPRKLYTQVPTGSDSRNVTVLLLLPGPRVFISNCLSVFTMVILARRQMCWHPGRSACRAMTRPVNLVTSSCTPHCQLTLVDYVVLPRYPYNTHYVTKWKRKERKPLKSRSTRLTDTLRIATLFLHLEIARSPCMFKGNALKWASQELPCLRCCATISFSDRRVISQALTIILIWAILQSRIPYPCPRRTGTEGVFNALASLCVGTGTKRASPQTIPQSMTMVVQRHGRSEIPGPSLGLRVISAFWLIGPRLHYRDDSTPTPYGRFSAEAPSLRQVKSYFTRVASTREGSVYTEPVGGHQPTIPFASVPLSAAVPKSFAVLNIVIMSRIWTESLSPGPSTARRKLCAGMQDDEINFSDRQDEVPGARSSEKLVNNRASLRHMSIQGEESVRKNLCYPSHWPSICFDTTCIPQPLSSLSRTSDSTPISSFLCVHIIVPHNIGSSRETVRALMPVIRISPLHESTLNEHSSEFTQIRVRLWAYWWKYAMLCEGSRFEPKCILDILCTVFCGAGIISTAMFWRTAVISSPCLEASERARSGSIIRFPRNGKLKATIMVFRSGIPQVGSVTYSRTCSERFGTAQRFYTLSLAFGRLKAALYVCNSRSAQFERASKSPPSDARYYDIRGDPTRISSRKGINRLGEGRSAIYAMPSEGVAHLGLPTLLLHCFRTLYDRHILGEFQEERPMAGKVSRPKDRGYDIVIGALVLYEDNTDLERTLCCKTGALMRRALMVKFRKGSQFTEKGTEQCRTVFRSKEDCLLSPDPVRIFRRRLDPIIVNPVHCGIHTVHMVRSLPADCYRGLCLPVGQAQKHATSHERYVVDAVPILVTGVPGGMTSLPVIEPLTGHCLERMQRRVYRSNQIKTPWALAICSMALDELSPAFCEKGRAINAPVPRRVSQDRAWTLSDARAICITSCDETAQSYYEDDAHRFPDPISEGPTATSRVNNRPYTFPHTESRLCPGITWFAVRKVLTRTTLFRLPGLSLIPKVSGLDHNSVRACHWLNDPTLAKMQLWREWNHLHTGPNTNYRILPVRQPLFELSPEAWGHLSALGCCPTYEPVPGPWLVSAGKGTPELIAMVFPRSRRACGYVADHDLPSSQPRLQHGGTSQEVCQEYVYTKLLSSRESRCIRGSKVHGPRILSLEVHPTVIQNPCLSTPSGRCRRHRHSLHCTPTDSCLFDLRRTSRDGVWGYKPELPNYGLSTTAGIVVVVQTLPCVCILASEDSTCQDKDLRATLRPQFGQIRHILGAVRDLIARPCLILPQDVGGQICRGMMIALLFSTTGTQRFARELNDRRTTESQHPFLICLSSWDLLLSFVRINVWGGSRYARIVTTALPSRACSLPMAFLLGHRITGAVGFERLEIRRCSFQLYRPSTLHRPEIFLSARRVHLQGVTTILPFPLAVYRSRRSTVILRRGINMFSYYTLSSITRGVNTIVGHHGLPELDLNHNRPLIREELLHALRNHHGDSVIEDRVNDAPAFPNQTGETTVRGWNAGPKRHYFTFLIEIVKPRLKTRMWCESSPNSQPLTPARTFISPITRACTRVINTKTNPEERDSRTPKIHRSARLGVNKMSQLEIGMDNAEEYPHFRFHIVARPVCDSTRASSPMTLCPCPKQLLGVFDALCDADTPMFRGCLLCTSRSARRCHVCSLTDLFPQILYVPWFGCPGITDKGDPSKSIHFRLSDALGPWAHRTARSCQTGFSRRLCSRSKPAPTLSWRTRITRANSHLQSKRLDFLRRCLAKQTNVLGLTPSALAIEQFCSTLKNVGAGAMDCSDSV\n"
     ]
    }
   ],
   "source": [
    "proteinList = []\n",
    "for i in range(0, len(rnaCodonsList)):\n",
    "    aminoLetter = codonTable[rnaCodonsList[i]]\n",
    "    proteinList.append(aminoLetter)\n",
    "protein = \"\"\n",
    "protein = (protein.join(proteinList)).replace('Stop','')\n",
    "print(protein)"
   ]
  },
  {
   "cell_type": "markdown",
   "metadata": {},
   "source": [
    "**Inferring mRNA from Protein**"
   ]
  },
  {
   "cell_type": "code",
   "execution_count": 67,
   "metadata": {},
   "outputs": [
    {
     "name": "stdout",
     "output_type": "stream",
     "text": [
      "999\n"
     ]
    }
   ],
   "source": [
    "f = open(\"rosalind_mrna.txt\", \"r\")\n",
    "protein = f.read().rstrip() #remove the carrier return from the string\n",
    "print(len(protein))"
   ]
  },
  {
   "cell_type": "code",
   "execution_count": 68,
   "metadata": {},
   "outputs": [
    {
     "name": "stdout",
     "output_type": "stream",
     "text": [
      "{'A': 4, 'R': 6, 'N': 2, 'D': 2, 'C': 2, 'Q': 2, 'E': 2, 'G': 4, 'H': 2, 'I': 3, 'L': 6, 'K': 2, 'M': 1, 'F': 2, 'P': 4, 'S': 6, 'T': 4, 'W': 1, 'Y': 2, 'V': 4, 'Stop': 3}\n"
     ]
    }
   ],
   "source": [
    "#get the frequency list of RNA String\n",
    "values = list(codonTable.values())\n",
    "#print(values)\n",
    "rnaStringFrequency = {}\n",
    "for value in values:\n",
    "    rnaStringFrequency[value] = sum(rnaString == value for rnaString in codonTable.values())\n",
    "print(rnaStringFrequency)"
   ]
  },
  {
   "cell_type": "code",
   "execution_count": 69,
   "metadata": {},
   "outputs": [
    {
     "name": "stdout",
     "output_type": "stream",
     "text": [
      "105984\n"
     ]
    }
   ],
   "source": [
    "#Assuming input is provided properly\n",
    "possibilityAmount = 1\n",
    "for aa in protein:\n",
    "    possibilityAmount = (possibilityAmount * rnaStringFrequency[aa]) % 1E6\n",
    "\n",
    "#Number of stop codons is included.\n",
    "possibilityAmount = (possibilityAmount * rnaStringFrequency['Stop'])\n",
    "\n",
    "print(round(possibilityAmount))"
   ]
  },
  {
   "cell_type": "code",
   "execution_count": null,
   "metadata": {},
   "outputs": [],
   "source": []
  }
 ],
 "metadata": {
  "kernelspec": {
   "display_name": "Python 3",
   "language": "python",
   "name": "python3"
  },
  "language_info": {
   "codemirror_mode": {
    "name": "ipython",
    "version": 3
   },
   "file_extension": ".py",
   "mimetype": "text/x-python",
   "name": "python",
   "nbconvert_exporter": "python",
   "pygments_lexer": "ipython3",
   "version": "3.7.0"
  }
 },
 "nbformat": 4,
 "nbformat_minor": 2
}
